{
 "cells": [
  {
   "cell_type": "code",
   "execution_count": 1,
   "metadata": {
    "colab": {
     "base_uri": "https://localhost:8080/"
    },
    "id": "1fr6A5TtIgYB",
    "outputId": "0c5dd7f3-0733-4126-af72-cff09c1c8a0c"
   },
   "outputs": [
    {
     "name": "stderr",
     "output_type": "stream",
     "text": [
      "[nltk_data] Downloading package stopwords to\n",
      "[nltk_data]     C:\\Users\\MAarif\\AppData\\Roaming\\nltk_data...\n",
      "[nltk_data]   Package stopwords is already up-to-date!\n",
      "[nltk_data] Downloading package wordnet to\n",
      "[nltk_data]     C:\\Users\\MAarif\\AppData\\Roaming\\nltk_data...\n",
      "[nltk_data]   Package wordnet is already up-to-date!\n",
      "[nltk_data] Downloading package punkt to\n",
      "[nltk_data]     C:\\Users\\MAarif\\AppData\\Roaming\\nltk_data...\n",
      "[nltk_data]   Package punkt is already up-to-date!\n",
      "[nltk_data] Downloading package averaged_perceptron_tagger to\n",
      "[nltk_data]     C:\\Users\\MAarif\\AppData\\Roaming\\nltk_data...\n",
      "[nltk_data]   Package averaged_perceptron_tagger is already up-to-\n",
      "[nltk_data]       date!\n"
     ]
    },
    {
     "data": {
      "text/plain": [
       "True"
      ]
     },
     "execution_count": 1,
     "metadata": {},
     "output_type": "execute_result"
    }
   ],
   "source": [
    "import pandas as pd\n",
    "import nltk\n",
    "import string\n",
    "import joblib\n",
    "import re\n",
    "from bs4 import BeautifulSoup\n",
    "from nltk.corpus import stopwords\n",
    "from nltk.tokenize import RegexpTokenizer\n",
    "from nltk.stem import PorterStemmer\n",
    "from nltk.corpus import PlaintextCorpusReader\n",
    "from sklearn.feature_extraction.text import TfidfVectorizer\n",
    "from sklearn.cluster import KMeans\n",
    "from sklearn.model_selection import train_test_split\n",
    "from sklearn.naive_bayes import MultinomialNB\n",
    "from sklearn.metrics import accuracy_score, classification_report\n",
    "nltk.download('stopwords')\n",
    "nltk.download('wordnet')\n",
    "nltk.download('punkt')\n",
    "nltk.download('averaged_perceptron_tagger')"
   ]
  },
  {
   "cell_type": "code",
   "execution_count": 2,
   "metadata": {
    "id": "8ENj4peMIkru"
   },
   "outputs": [],
   "source": [
    "#df=pd.read_csv('data/bbc_news_scraping.csv')\n",
    "df=pd.read_csv('data/news_data.csv')"
   ]
  },
  {
   "cell_type": "code",
   "execution_count": 8,
   "metadata": {
    "id": "lCexEXtw-b6F"
   },
   "outputs": [],
   "source": [
    "from nltk.corpus import PlaintextCorpusReader"
   ]
  },
  {
   "cell_type": "code",
   "execution_count": 3,
   "metadata": {
    "colab": {
     "base_uri": "https://localhost:8080/",
     "height": 206
    },
    "id": "NdthIYnvIkwV",
    "outputId": "47a56160-f394-47f0-b13e-afe38ec5b30e"
   },
   "outputs": [
    {
     "data": {
      "text/html": [
       "<div>\n",
       "<style scoped>\n",
       "    .dataframe tbody tr th:only-of-type {\n",
       "        vertical-align: middle;\n",
       "    }\n",
       "\n",
       "    .dataframe tbody tr th {\n",
       "        vertical-align: top;\n",
       "    }\n",
       "\n",
       "    .dataframe thead th {\n",
       "        text-align: right;\n",
       "    }\n",
       "</style>\n",
       "<table border=\"1\" class=\"dataframe\">\n",
       "  <thead>\n",
       "    <tr style=\"text-align: right;\">\n",
       "      <th></th>\n",
       "      <th>Section</th>\n",
       "      <th>Title</th>\n",
       "      <th>Content</th>\n",
       "      <th>category</th>\n",
       "    </tr>\n",
       "  </thead>\n",
       "  <tbody>\n",
       "    <tr>\n",
       "      <th>0</th>\n",
       "      <td>business</td>\n",
       "      <td>RBI maintains status quo, keeps repo rate unch...</td>\n",
       "      <td>RBI Governor Shaktikanta Das said the monetary...</td>\n",
       "      <td>business</td>\n",
       "    </tr>\n",
       "    <tr>\n",
       "      <th>1</th>\n",
       "      <td>business</td>\n",
       "      <td>RIL AGM 2023: Mukesh Ambani to remain Reliance...</td>\n",
       "      <td>Mukesh Ambani said he will especially mentor A...</td>\n",
       "      <td>business</td>\n",
       "    </tr>\n",
       "    <tr>\n",
       "      <th>2</th>\n",
       "      <td>business</td>\n",
       "      <td>At RIL AGM, Mukesh Ambani hails Network18's 'g...</td>\n",
       "      <td>Pointing RIL’s progress in the media and enter...</td>\n",
       "      <td>business</td>\n",
       "    </tr>\n",
       "    <tr>\n",
       "      <th>3</th>\n",
       "      <td>business</td>\n",
       "      <td>‘JioBharat Phone is about digital democracy an...</td>\n",
       "      <td>Experts of the telecom industry are calling th...</td>\n",
       "      <td>business</td>\n",
       "    </tr>\n",
       "    <tr>\n",
       "      <th>4</th>\n",
       "      <td>business</td>\n",
       "      <td>India's wealthiest woman Savitri Jindal crosse...</td>\n",
       "      <td>A power and steel conglomerate, OP Jindal Grou...</td>\n",
       "      <td>business</td>\n",
       "    </tr>\n",
       "  </tbody>\n",
       "</table>\n",
       "</div>"
      ],
      "text/plain": [
       "    Section                                              Title  \\\n",
       "0  business  RBI maintains status quo, keeps repo rate unch...   \n",
       "1  business  RIL AGM 2023: Mukesh Ambani to remain Reliance...   \n",
       "2  business  At RIL AGM, Mukesh Ambani hails Network18's 'g...   \n",
       "3  business  ‘JioBharat Phone is about digital democracy an...   \n",
       "4  business  India's wealthiest woman Savitri Jindal crosse...   \n",
       "\n",
       "                                             Content  category  \n",
       "0  RBI Governor Shaktikanta Das said the monetary...  business  \n",
       "1  Mukesh Ambani said he will especially mentor A...  business  \n",
       "2  Pointing RIL’s progress in the media and enter...  business  \n",
       "3  Experts of the telecom industry are calling th...  business  \n",
       "4  A power and steel conglomerate, OP Jindal Grou...  business  "
      ]
     },
     "execution_count": 3,
     "metadata": {},
     "output_type": "execute_result"
    }
   ],
   "source": [
    "df.head()"
   ]
  },
  {
   "cell_type": "code",
   "execution_count": 4,
   "metadata": {
    "id": "BfM7Xpto-nyN"
   },
   "outputs": [],
   "source": [
    "stopwords=set(stopwords.words('english'))"
   ]
  },
  {
   "cell_type": "code",
   "execution_count": 5,
   "metadata": {},
   "outputs": [
    {
     "name": "stderr",
     "output_type": "stream",
     "text": [
      "C:\\Users\\MAarif\\AppData\\Local\\Temp\\ipykernel_16292\\2833099690.py:7: MarkupResemblesLocatorWarning: The input looks more like a filename than markup. You may want to open this file and pass the filehandle into Beautiful Soup.\n",
      "  text = BeautifulSoup(text, 'html.parser').get_text()\n"
     ]
    },
    {
     "name": "stdout",
     "output_type": "stream",
     "text": [
      "                                                  Title  \\\n",
      "0     rbi maintains status quo keep repo rate unchanged   \n",
      "1     ril agm mukesh ambani remain reliance chairman...   \n",
      "2     ril agm mukesh ambani hail network great progr...   \n",
      "3     jiobharat phone digital democracy empowerment ...   \n",
      "4     india wealthiest woman savitri jindal cross to...   \n",
      "...                                                 ...   \n",
      "1805  jasprit bumrah becomes first indian pacer atta...   \n",
      "1806  espn fox warner bros discovery unite create ne...   \n",
      "1807  ad hoc panel wrestling tell state unit send en...   \n",
      "1808  paris olympics life set like usual parisian am...   \n",
      "1809  paris olympics challenging need smarter time p...   \n",
      "\n",
      "                                                  Title  \n",
      "0     rbi maintains status quo keep repo rate unchanged  \n",
      "1     ril agm mukesh ambani remain reliance chairman...  \n",
      "2     ril agm mukesh ambani hail network great progr...  \n",
      "3     jiobharat phone digital democracy empowerment ...  \n",
      "4     india wealthiest woman savitri jindal cross to...  \n",
      "...                                                 ...  \n",
      "1805  jasprit bumrah becomes first indian pacer atta...  \n",
      "1806  espn fox warner bros discovery unite create ne...  \n",
      "1807  ad hoc panel wrestling tell state unit send en...  \n",
      "1808  paris olympics life set like usual parisian am...  \n",
      "1809  paris olympics challenging need smarter time p...  \n",
      "\n",
      "[1810 rows x 2 columns]\n"
     ]
    }
   ],
   "source": [
    "from nltk.corpus import stopwords\n",
    "from nltk.tokenize import word_tokenize\n",
    "from nltk.stem import WordNetLemmatizer\n",
    "# Function to clean and preprocess text\n",
    "def preprocess_text(text):\n",
    "    # Remove HTML tags using BeautifulSoup\n",
    "    text = BeautifulSoup(text, 'html.parser').get_text()\n",
    "\n",
    "    # Remove non-alphabetic characters\n",
    "    text = re.sub('[^a-zA-Z]', ' ', text)\n",
    "\n",
    "    # Tokenize the text\n",
    "    tokens = word_tokenize(text.lower())  # Convert to lowercase\n",
    "\n",
    "    # Remove stop words\n",
    "    stop_words = set(stopwords.words('english'))\n",
    "    tokens = [token for token in tokens if token not in stop_words]\n",
    "\n",
    "    # Lemmatization using WordNet\n",
    "    lemmatizer = WordNetLemmatizer()\n",
    "    tokens = [lemmatizer.lemmatize(token) for token in tokens]\n",
    "\n",
    "    # Join tokens back into a single string\n",
    "    cleaned_text = ' '.join(tokens)\n",
    "\n",
    "    return cleaned_text\n",
    "\n",
    "# Apply the preprocessing function to the 'description' column\n",
    "df['Title'] = df['Title'].apply(preprocess_text)\n",
    "\n",
    "# Display the cleaned DataFrame\n",
    "print(df[['Title', 'Title']])"
   ]
  },
  {
   "cell_type": "code",
   "execution_count": 12,
   "metadata": {
    "id": "GqxLLxcu-n05"
   },
   "outputs": [],
   "source": [
    "#Removing stopwords\n",
    "def clean(text):\n",
    "    stop_words = set(stopwords.words('english'))\n",
    "    words = text.split()\n",
    "    words = [word for word in words if word.lower() not in stop_words]\n",
    "    return ' '.join(words)"
   ]
  },
  {
   "cell_type": "code",
   "execution_count": 11,
   "metadata": {},
   "outputs": [
    {
     "name": "stdout",
     "output_type": "stream",
     "text": [
      "<class 'pandas.core.frame.DataFrame'>\n",
      "RangeIndex: 1810 entries, 0 to 1809\n",
      "Data columns (total 4 columns):\n",
      " #   Column    Non-Null Count  Dtype \n",
      "---  ------    --------------  ----- \n",
      " 0   Section   1810 non-null   object\n",
      " 1   Title     1810 non-null   object\n",
      " 2   Content   1810 non-null   object\n",
      " 3   category  1810 non-null   object\n",
      "dtypes: object(4)\n",
      "memory usage: 56.7+ KB\n"
     ]
    }
   ],
   "source": [
    "df.info()"
   ]
  },
  {
   "cell_type": "code",
   "execution_count": 13,
   "metadata": {
    "id": "rK4VscP0-n3a"
   },
   "outputs": [],
   "source": [
    "df['Title']=df['Title'].apply(clean)"
   ]
  },
  {
   "cell_type": "code",
   "execution_count": 14,
   "metadata": {
    "colab": {
     "base_uri": "https://localhost:8080/",
     "height": 206
    },
    "id": "lglWVusY-n8N",
    "outputId": "032066b6-dd18-40ad-d468-9de8e22e9a83"
   },
   "outputs": [
    {
     "data": {
      "text/html": [
       "<div>\n",
       "<style scoped>\n",
       "    .dataframe tbody tr th:only-of-type {\n",
       "        vertical-align: middle;\n",
       "    }\n",
       "\n",
       "    .dataframe tbody tr th {\n",
       "        vertical-align: top;\n",
       "    }\n",
       "\n",
       "    .dataframe thead th {\n",
       "        text-align: right;\n",
       "    }\n",
       "</style>\n",
       "<table border=\"1\" class=\"dataframe\">\n",
       "  <thead>\n",
       "    <tr style=\"text-align: right;\">\n",
       "      <th></th>\n",
       "      <th>Section</th>\n",
       "      <th>Title</th>\n",
       "      <th>Content</th>\n",
       "      <th>category</th>\n",
       "    </tr>\n",
       "  </thead>\n",
       "  <tbody>\n",
       "    <tr>\n",
       "      <th>0</th>\n",
       "      <td>business</td>\n",
       "      <td>rbi maintains status quo keep repo rate unchanged</td>\n",
       "      <td>RBI Governor Shaktikanta Das said the monetary...</td>\n",
       "      <td>business</td>\n",
       "    </tr>\n",
       "    <tr>\n",
       "      <th>1</th>\n",
       "      <td>business</td>\n",
       "      <td>ril agm mukesh ambani remain reliance chairman...</td>\n",
       "      <td>Mukesh Ambani said he will especially mentor A...</td>\n",
       "      <td>business</td>\n",
       "    </tr>\n",
       "    <tr>\n",
       "      <th>2</th>\n",
       "      <td>business</td>\n",
       "      <td>ril agm mukesh ambani hail network great progr...</td>\n",
       "      <td>Pointing RIL’s progress in the media and enter...</td>\n",
       "      <td>business</td>\n",
       "    </tr>\n",
       "    <tr>\n",
       "      <th>3</th>\n",
       "      <td>business</td>\n",
       "      <td>jiobharat phone digital democracy empowerment ...</td>\n",
       "      <td>Experts of the telecom industry are calling th...</td>\n",
       "      <td>business</td>\n",
       "    </tr>\n",
       "    <tr>\n",
       "      <th>4</th>\n",
       "      <td>business</td>\n",
       "      <td>india wealthiest woman savitri jindal cross to...</td>\n",
       "      <td>A power and steel conglomerate, OP Jindal Grou...</td>\n",
       "      <td>business</td>\n",
       "    </tr>\n",
       "  </tbody>\n",
       "</table>\n",
       "</div>"
      ],
      "text/plain": [
       "    Section                                              Title  \\\n",
       "0  business  rbi maintains status quo keep repo rate unchanged   \n",
       "1  business  ril agm mukesh ambani remain reliance chairman...   \n",
       "2  business  ril agm mukesh ambani hail network great progr...   \n",
       "3  business  jiobharat phone digital democracy empowerment ...   \n",
       "4  business  india wealthiest woman savitri jindal cross to...   \n",
       "\n",
       "                                             Content  category  \n",
       "0  RBI Governor Shaktikanta Das said the monetary...  business  \n",
       "1  Mukesh Ambani said he will especially mentor A...  business  \n",
       "2  Pointing RIL’s progress in the media and enter...  business  \n",
       "3  Experts of the telecom industry are calling th...  business  \n",
       "4  A power and steel conglomerate, OP Jindal Grou...  business  "
      ]
     },
     "execution_count": 14,
     "metadata": {},
     "output_type": "execute_result"
    }
   ],
   "source": [
    "df.head()"
   ]
  },
  {
   "cell_type": "code",
   "execution_count": 15,
   "metadata": {
    "id": "cqNqsPQxIkzL"
   },
   "outputs": [],
   "source": [
    "english_punctuations = string.punctuation\n",
    "punctuations_list = english_punctuations"
   ]
  },
  {
   "cell_type": "code",
   "execution_count": 16,
   "metadata": {
    "id": "-vND-MMp_ibA"
   },
   "outputs": [],
   "source": [
    "#Removing punctuation\n",
    "def clean_punc(text):\n",
    "  return ''.join(x for x in text if x not in punctuations_list)"
   ]
  },
  {
   "cell_type": "code",
   "execution_count": 17,
   "metadata": {
    "id": "UdFSQ4CI_idv"
   },
   "outputs": [],
   "source": [
    "df['Title']=df['Title'].apply(lambda x:clean_punc(x))"
   ]
  },
  {
   "cell_type": "code",
   "execution_count": 18,
   "metadata": {
    "colab": {
     "base_uri": "https://localhost:8080/",
     "height": 206
    },
    "id": "YhUxCm9W_igO",
    "outputId": "14703dff-dad6-431a-8028-9df06c105a3c"
   },
   "outputs": [
    {
     "data": {
      "text/html": [
       "<div>\n",
       "<style scoped>\n",
       "    .dataframe tbody tr th:only-of-type {\n",
       "        vertical-align: middle;\n",
       "    }\n",
       "\n",
       "    .dataframe tbody tr th {\n",
       "        vertical-align: top;\n",
       "    }\n",
       "\n",
       "    .dataframe thead th {\n",
       "        text-align: right;\n",
       "    }\n",
       "</style>\n",
       "<table border=\"1\" class=\"dataframe\">\n",
       "  <thead>\n",
       "    <tr style=\"text-align: right;\">\n",
       "      <th></th>\n",
       "      <th>Section</th>\n",
       "      <th>Title</th>\n",
       "      <th>Content</th>\n",
       "      <th>category</th>\n",
       "    </tr>\n",
       "  </thead>\n",
       "  <tbody>\n",
       "    <tr>\n",
       "      <th>0</th>\n",
       "      <td>business</td>\n",
       "      <td>rbi maintains status quo keep repo rate unchanged</td>\n",
       "      <td>RBI Governor Shaktikanta Das said the monetary...</td>\n",
       "      <td>business</td>\n",
       "    </tr>\n",
       "    <tr>\n",
       "      <th>1</th>\n",
       "      <td>business</td>\n",
       "      <td>ril agm mukesh ambani remain reliance chairman...</td>\n",
       "      <td>Mukesh Ambani said he will especially mentor A...</td>\n",
       "      <td>business</td>\n",
       "    </tr>\n",
       "    <tr>\n",
       "      <th>2</th>\n",
       "      <td>business</td>\n",
       "      <td>ril agm mukesh ambani hail network great progr...</td>\n",
       "      <td>Pointing RIL’s progress in the media and enter...</td>\n",
       "      <td>business</td>\n",
       "    </tr>\n",
       "    <tr>\n",
       "      <th>3</th>\n",
       "      <td>business</td>\n",
       "      <td>jiobharat phone digital democracy empowerment ...</td>\n",
       "      <td>Experts of the telecom industry are calling th...</td>\n",
       "      <td>business</td>\n",
       "    </tr>\n",
       "    <tr>\n",
       "      <th>4</th>\n",
       "      <td>business</td>\n",
       "      <td>india wealthiest woman savitri jindal cross to...</td>\n",
       "      <td>A power and steel conglomerate, OP Jindal Grou...</td>\n",
       "      <td>business</td>\n",
       "    </tr>\n",
       "  </tbody>\n",
       "</table>\n",
       "</div>"
      ],
      "text/plain": [
       "    Section                                              Title  \\\n",
       "0  business  rbi maintains status quo keep repo rate unchanged   \n",
       "1  business  ril agm mukesh ambani remain reliance chairman...   \n",
       "2  business  ril agm mukesh ambani hail network great progr...   \n",
       "3  business  jiobharat phone digital democracy empowerment ...   \n",
       "4  business  india wealthiest woman savitri jindal cross to...   \n",
       "\n",
       "                                             Content  category  \n",
       "0  RBI Governor Shaktikanta Das said the monetary...  business  \n",
       "1  Mukesh Ambani said he will especially mentor A...  business  \n",
       "2  Pointing RIL’s progress in the media and enter...  business  \n",
       "3  Experts of the telecom industry are calling th...  business  \n",
       "4  A power and steel conglomerate, OP Jindal Grou...  business  "
      ]
     },
     "execution_count": 18,
     "metadata": {},
     "output_type": "execute_result"
    }
   ],
   "source": [
    "df.head()"
   ]
  },
  {
   "cell_type": "code",
   "execution_count": 19,
   "metadata": {
    "id": "L1vZXBDl_ii8"
   },
   "outputs": [],
   "source": [
    "#Tokenization\n",
    "tokenizer=RegexpTokenizer(r'\\w+')"
   ]
  },
  {
   "cell_type": "code",
   "execution_count": 20,
   "metadata": {
    "id": "12Al9F1h_ilj"
   },
   "outputs": [],
   "source": [
    "df['Title']=df['Title'].apply(tokenizer.tokenize)"
   ]
  },
  {
   "cell_type": "code",
   "execution_count": 21,
   "metadata": {
    "colab": {
     "base_uri": "https://localhost:8080/",
     "height": 206
    },
    "id": "Y10vK9Ew_in4",
    "outputId": "862a8c5b-765f-454f-dd13-725affa33458"
   },
   "outputs": [
    {
     "data": {
      "text/html": [
       "<div>\n",
       "<style scoped>\n",
       "    .dataframe tbody tr th:only-of-type {\n",
       "        vertical-align: middle;\n",
       "    }\n",
       "\n",
       "    .dataframe tbody tr th {\n",
       "        vertical-align: top;\n",
       "    }\n",
       "\n",
       "    .dataframe thead th {\n",
       "        text-align: right;\n",
       "    }\n",
       "</style>\n",
       "<table border=\"1\" class=\"dataframe\">\n",
       "  <thead>\n",
       "    <tr style=\"text-align: right;\">\n",
       "      <th></th>\n",
       "      <th>Section</th>\n",
       "      <th>Title</th>\n",
       "      <th>Content</th>\n",
       "      <th>category</th>\n",
       "    </tr>\n",
       "  </thead>\n",
       "  <tbody>\n",
       "    <tr>\n",
       "      <th>0</th>\n",
       "      <td>business</td>\n",
       "      <td>[rbi, maintains, status, quo, keep, repo, rate...</td>\n",
       "      <td>RBI Governor Shaktikanta Das said the monetary...</td>\n",
       "      <td>business</td>\n",
       "    </tr>\n",
       "    <tr>\n",
       "      <th>1</th>\n",
       "      <td>business</td>\n",
       "      <td>[ril, agm, mukesh, ambani, remain, reliance, c...</td>\n",
       "      <td>Mukesh Ambani said he will especially mentor A...</td>\n",
       "      <td>business</td>\n",
       "    </tr>\n",
       "    <tr>\n",
       "      <th>2</th>\n",
       "      <td>business</td>\n",
       "      <td>[ril, agm, mukesh, ambani, hail, network, grea...</td>\n",
       "      <td>Pointing RIL’s progress in the media and enter...</td>\n",
       "      <td>business</td>\n",
       "    </tr>\n",
       "    <tr>\n",
       "      <th>3</th>\n",
       "      <td>business</td>\n",
       "      <td>[jiobharat, phone, digital, democracy, empower...</td>\n",
       "      <td>Experts of the telecom industry are calling th...</td>\n",
       "      <td>business</td>\n",
       "    </tr>\n",
       "    <tr>\n",
       "      <th>4</th>\n",
       "      <td>business</td>\n",
       "      <td>[india, wealthiest, woman, savitri, jindal, cr...</td>\n",
       "      <td>A power and steel conglomerate, OP Jindal Grou...</td>\n",
       "      <td>business</td>\n",
       "    </tr>\n",
       "  </tbody>\n",
       "</table>\n",
       "</div>"
      ],
      "text/plain": [
       "    Section                                              Title  \\\n",
       "0  business  [rbi, maintains, status, quo, keep, repo, rate...   \n",
       "1  business  [ril, agm, mukesh, ambani, remain, reliance, c...   \n",
       "2  business  [ril, agm, mukesh, ambani, hail, network, grea...   \n",
       "3  business  [jiobharat, phone, digital, democracy, empower...   \n",
       "4  business  [india, wealthiest, woman, savitri, jindal, cr...   \n",
       "\n",
       "                                             Content  category  \n",
       "0  RBI Governor Shaktikanta Das said the monetary...  business  \n",
       "1  Mukesh Ambani said he will especially mentor A...  business  \n",
       "2  Pointing RIL’s progress in the media and enter...  business  \n",
       "3  Experts of the telecom industry are calling th...  business  \n",
       "4  A power and steel conglomerate, OP Jindal Grou...  business  "
      ]
     },
     "execution_count": 21,
     "metadata": {},
     "output_type": "execute_result"
    }
   ],
   "source": [
    "df.head()"
   ]
  },
  {
   "cell_type": "code",
   "execution_count": 22,
   "metadata": {
    "id": "eWpBVBEY_iqc"
   },
   "outputs": [],
   "source": [
    "#Stemming\n",
    "st=PorterStemmer()"
   ]
  },
  {
   "cell_type": "code",
   "execution_count": 23,
   "metadata": {
    "id": "fOJCqcHs_--w"
   },
   "outputs": [],
   "source": [
    "def stemming(text):\n",
    "  stemmed_words=[st.stem(word) for word in text]\n",
    "  return ' '.join(stemmed_words)"
   ]
  },
  {
   "cell_type": "code",
   "execution_count": 24,
   "metadata": {
    "id": "zU6dM-0w__Ba"
   },
   "outputs": [],
   "source": [
    "df['Title']=df['Title'].apply(stemming)"
   ]
  },
  {
   "cell_type": "code",
   "execution_count": 41,
   "metadata": {
    "colab": {
     "base_uri": "https://localhost:8080/",
     "height": 206
    },
    "id": "aaTWKilm__EC",
    "outputId": "66899a79-91d5-425b-bc66-6e06b87edba8"
   },
   "outputs": [
    {
     "data": {
      "text/html": [
       "<div>\n",
       "<style scoped>\n",
       "    .dataframe tbody tr th:only-of-type {\n",
       "        vertical-align: middle;\n",
       "    }\n",
       "\n",
       "    .dataframe tbody tr th {\n",
       "        vertical-align: top;\n",
       "    }\n",
       "\n",
       "    .dataframe thead th {\n",
       "        text-align: right;\n",
       "    }\n",
       "</style>\n",
       "<table border=\"1\" class=\"dataframe\">\n",
       "  <thead>\n",
       "    <tr style=\"text-align: right;\">\n",
       "      <th></th>\n",
       "      <th>Section</th>\n",
       "      <th>Title</th>\n",
       "      <th>Content</th>\n",
       "      <th>category</th>\n",
       "      <th>Topic</th>\n",
       "    </tr>\n",
       "  </thead>\n",
       "  <tbody>\n",
       "    <tr>\n",
       "      <th>0</th>\n",
       "      <td>business</td>\n",
       "      <td>rbi maintain statu quo keep repo rate unchang</td>\n",
       "      <td>RBI Governor Shaktikanta Das said the monetary...</td>\n",
       "      <td>business</td>\n",
       "      <td>1</td>\n",
       "    </tr>\n",
       "    <tr>\n",
       "      <th>1</th>\n",
       "      <td>business</td>\n",
       "      <td>ril agm mukesh ambani remain relianc chairman ...</td>\n",
       "      <td>Mukesh Ambani said he will especially mentor A...</td>\n",
       "      <td>business</td>\n",
       "      <td>1</td>\n",
       "    </tr>\n",
       "    <tr>\n",
       "      <th>2</th>\n",
       "      <td>business</td>\n",
       "      <td>ril agm mukesh ambani hail network great progr...</td>\n",
       "      <td>Pointing RIL’s progress in the media and enter...</td>\n",
       "      <td>business</td>\n",
       "      <td>1</td>\n",
       "    </tr>\n",
       "    <tr>\n",
       "      <th>3</th>\n",
       "      <td>business</td>\n",
       "      <td>jiobharat phone digit democraci empower best s...</td>\n",
       "      <td>Experts of the telecom industry are calling th...</td>\n",
       "      <td>business</td>\n",
       "      <td>1</td>\n",
       "    </tr>\n",
       "    <tr>\n",
       "      <th>4</th>\n",
       "      <td>business</td>\n",
       "      <td>india wealthiest woman savitri jindal cross to...</td>\n",
       "      <td>A power and steel conglomerate, OP Jindal Grou...</td>\n",
       "      <td>business</td>\n",
       "      <td>0</td>\n",
       "    </tr>\n",
       "  </tbody>\n",
       "</table>\n",
       "</div>"
      ],
      "text/plain": [
       "    Section                                              Title  \\\n",
       "0  business      rbi maintain statu quo keep repo rate unchang   \n",
       "1  business  ril agm mukesh ambani remain relianc chairman ...   \n",
       "2  business  ril agm mukesh ambani hail network great progr...   \n",
       "3  business  jiobharat phone digit democraci empower best s...   \n",
       "4  business  india wealthiest woman savitri jindal cross to...   \n",
       "\n",
       "                                             Content  category  Topic  \n",
       "0  RBI Governor Shaktikanta Das said the monetary...  business      1  \n",
       "1  Mukesh Ambani said he will especially mentor A...  business      1  \n",
       "2  Pointing RIL’s progress in the media and enter...  business      1  \n",
       "3  Experts of the telecom industry are calling th...  business      1  \n",
       "4  A power and steel conglomerate, OP Jindal Grou...  business      0  "
      ]
     },
     "execution_count": 41,
     "metadata": {},
     "output_type": "execute_result"
    }
   ],
   "source": [
    "df.head()"
   ]
  },
  {
   "cell_type": "code",
   "execution_count": 26,
   "metadata": {
    "id": "jod8s4na__MY"
   },
   "outputs": [],
   "source": [
    "tfidf_vectorizer = TfidfVectorizer(stop_words='english')"
   ]
  },
  {
   "cell_type": "code",
   "execution_count": 27,
   "metadata": {
    "id": "bTij9znW__Qk"
   },
   "outputs": [],
   "source": [
    "tfidf_matrix = tfidf_vectorizer.fit_transform(df['Title'])"
   ]
  },
  {
   "cell_type": "code",
   "execution_count": 28,
   "metadata": {
    "id": "2lAHjSh4BID4"
   },
   "outputs": [],
   "source": [
    "dense_tfidf_df = pd.DataFrame(tfidf_matrix.toarray(), columns=tfidf_vectorizer.get_feature_names_out())"
   ]
  },
  {
   "cell_type": "code",
   "execution_count": 42,
   "metadata": {},
   "outputs": [
    {
     "data": {
      "text/plain": [
       "array([0, 3, 1, 2], dtype=int64)"
      ]
     },
     "execution_count": 42,
     "metadata": {},
     "output_type": "execute_result"
    }
   ],
   "source": [
    "cat={'business':0,'health':1,'sports':2,'entertainment':3}\n",
    "df['Topic'] = df['category'].replace(cat)\n",
    "df['Topic'].unique()"
   ]
  },
  {
   "cell_type": "code",
   "execution_count": 29,
   "metadata": {
    "colab": {
     "base_uri": "https://localhost:8080/"
    },
    "id": "MkDzzKHRBIL_",
    "outputId": "a775d4c7-7453-4f3c-ed14-dc168d75dfb0"
   },
   "outputs": [
    {
     "name": "stderr",
     "output_type": "stream",
     "text": [
      "C:\\Users\\MAarif\\AppData\\Local\\anaconda3\\Lib\\site-packages\\sklearn\\cluster\\_kmeans.py:1412: FutureWarning: The default value of `n_init` will change from 10 to 'auto' in 1.4. Set the value of `n_init` explicitly to suppress the warning\n",
      "  super()._check_params_vs_input(X, default_n_init=10)\n"
     ]
    },
    {
     "data": {
      "text/plain": [
       "array([1, 1, 1, ..., 1, 1, 0])"
      ]
     },
     "execution_count": 29,
     "metadata": {},
     "output_type": "execute_result"
    }
   ],
   "source": [
    "num_clusters = 4\n",
    "# Apply K-means clustering\n",
    "kmeans = KMeans(n_clusters=num_clusters, random_state=50)\n",
    "cluster_labels = kmeans.fit_predict(tfidf_matrix)\n",
    "cluster_labels"
   ]
  },
  {
   "cell_type": "code",
   "execution_count": 39,
   "metadata": {
    "id": "gRBTQY2ECkgW"
   },
   "outputs": [],
   "source": [
    "df['Topic']=cluster_labels"
   ]
  },
  {
   "cell_type": "code",
   "execution_count": 40,
   "metadata": {},
   "outputs": [
    {
     "name": "stdout",
     "output_type": "stream",
     "text": [
      "\n",
      "Cluster 0 Articles:\n",
      "510     richa chadha ali fazal announc pregnanc say ti...\n",
      "1756    tehran grey zone tactic tel aviv iran help ham...\n",
      "1181    karnataka log new covid case state impos curb ...\n",
      "1671    explain saudi arabia clever plan dodg atp tour...\n",
      "1273            prostat cancer symptom vulner test option\n",
      "Name: Title, dtype: object\n",
      "\n",
      "Cluster 1 Articles:\n",
      "777     watch ahaan panday arriv yrf offic sign contra...\n",
      "835     actor hous worth r crore also own chalet switz...\n",
      "1519    ad hoc panel wrestl tell state unit send entri...\n",
      "1339    distract india hockey coach craig fulton varun...\n",
      "600     richa chadha ali fazal announc pregnanc say ti...\n",
      "Name: Title, dtype: object\n",
      "\n",
      "Cluster 2 Articles:\n",
      "1316      rees witherspoon think okay eat snow scienc say\n",
      "955     actor hous worth r crore also own chalet switz...\n",
      "643     legendari singer al raghavan husband mn rajam ...\n",
      "164     india wealthiest woman savitri jindal cross to...\n",
      "1107    watch ahaan panday arriv yrf offic sign contra...\n",
      "Name: Title, dtype: object\n",
      "\n",
      "Cluster 3 Articles:\n",
      "557     seri take atif aslam kinna sona youtub object ...\n",
      "1568    pari olymp life set like usual parisian amid r...\n",
      "383     jiobharat phone digit democraci empower best s...\n",
      "1052    dilip joshi actor richest tv star net worth r ...\n",
      "1768    kobe bryant immort foot bronz statu outsid lak...\n",
      "Name: Title, dtype: object\n"
     ]
    }
   ],
   "source": [
    "# Display a sample of articles from each cluster\n",
    "for cluster_label in range(num_clusters):\n",
    "    print(f\"\\nCluster {cluster_label} Articles:\")\n",
    "    cluster_articles = df[df['Topic'] == cluster_labels]['Title'].sample(min(5, len(df)))\n",
    "    print(cluster_articles)"
   ]
  },
  {
   "cell_type": "code",
   "execution_count": 35,
   "metadata": {
    "id": "m_KjZ01LFqAZ"
   },
   "outputs": [],
   "source": [
    "cluster_dictionary={0:'Entertainment',1:'Business',2:'Sports',3:'Health'}"
   ]
  },
  {
   "cell_type": "code",
   "execution_count": 36,
   "metadata": {
    "id": "xdVYAry8Cklg"
   },
   "outputs": [],
   "source": [
    "df['Topic']=df['Topic'].replace(cluster_dictionary)"
   ]
  },
  {
   "cell_type": "code",
   "execution_count": 43,
   "metadata": {
    "colab": {
     "base_uri": "https://localhost:8080/",
     "height": 206
    },
    "id": "L9Mvt7lZCkoT",
    "outputId": "c9578eed-c3ab-40a5-aa6c-5337061db9e3"
   },
   "outputs": [
    {
     "data": {
      "text/html": [
       "<div>\n",
       "<style scoped>\n",
       "    .dataframe tbody tr th:only-of-type {\n",
       "        vertical-align: middle;\n",
       "    }\n",
       "\n",
       "    .dataframe tbody tr th {\n",
       "        vertical-align: top;\n",
       "    }\n",
       "\n",
       "    .dataframe thead th {\n",
       "        text-align: right;\n",
       "    }\n",
       "</style>\n",
       "<table border=\"1\" class=\"dataframe\">\n",
       "  <thead>\n",
       "    <tr style=\"text-align: right;\">\n",
       "      <th></th>\n",
       "      <th>Section</th>\n",
       "      <th>Title</th>\n",
       "      <th>Content</th>\n",
       "      <th>category</th>\n",
       "      <th>Topic</th>\n",
       "    </tr>\n",
       "  </thead>\n",
       "  <tbody>\n",
       "    <tr>\n",
       "      <th>0</th>\n",
       "      <td>business</td>\n",
       "      <td>rbi maintain statu quo keep repo rate unchang</td>\n",
       "      <td>RBI Governor Shaktikanta Das said the monetary...</td>\n",
       "      <td>business</td>\n",
       "      <td>0</td>\n",
       "    </tr>\n",
       "    <tr>\n",
       "      <th>1</th>\n",
       "      <td>business</td>\n",
       "      <td>ril agm mukesh ambani remain relianc chairman ...</td>\n",
       "      <td>Mukesh Ambani said he will especially mentor A...</td>\n",
       "      <td>business</td>\n",
       "      <td>0</td>\n",
       "    </tr>\n",
       "    <tr>\n",
       "      <th>2</th>\n",
       "      <td>business</td>\n",
       "      <td>ril agm mukesh ambani hail network great progr...</td>\n",
       "      <td>Pointing RIL’s progress in the media and enter...</td>\n",
       "      <td>business</td>\n",
       "      <td>0</td>\n",
       "    </tr>\n",
       "    <tr>\n",
       "      <th>3</th>\n",
       "      <td>business</td>\n",
       "      <td>jiobharat phone digit democraci empower best s...</td>\n",
       "      <td>Experts of the telecom industry are calling th...</td>\n",
       "      <td>business</td>\n",
       "      <td>0</td>\n",
       "    </tr>\n",
       "    <tr>\n",
       "      <th>4</th>\n",
       "      <td>business</td>\n",
       "      <td>india wealthiest woman savitri jindal cross to...</td>\n",
       "      <td>A power and steel conglomerate, OP Jindal Grou...</td>\n",
       "      <td>business</td>\n",
       "      <td>0</td>\n",
       "    </tr>\n",
       "  </tbody>\n",
       "</table>\n",
       "</div>"
      ],
      "text/plain": [
       "    Section                                              Title  \\\n",
       "0  business      rbi maintain statu quo keep repo rate unchang   \n",
       "1  business  ril agm mukesh ambani remain relianc chairman ...   \n",
       "2  business  ril agm mukesh ambani hail network great progr...   \n",
       "3  business  jiobharat phone digit democraci empower best s...   \n",
       "4  business  india wealthiest woman savitri jindal cross to...   \n",
       "\n",
       "                                             Content  category  Topic  \n",
       "0  RBI Governor Shaktikanta Das said the monetary...  business      0  \n",
       "1  Mukesh Ambani said he will especially mentor A...  business      0  \n",
       "2  Pointing RIL’s progress in the media and enter...  business      0  \n",
       "3  Experts of the telecom industry are calling th...  business      0  \n",
       "4  A power and steel conglomerate, OP Jindal Grou...  business      0  "
      ]
     },
     "execution_count": 43,
     "metadata": {},
     "output_type": "execute_result"
    }
   ],
   "source": [
    "df.head()"
   ]
  },
  {
   "cell_type": "code",
   "execution_count": 44,
   "metadata": {
    "colab": {
     "base_uri": "https://localhost:8080/"
    },
    "id": "4dKZPmF1Ckqp",
    "outputId": "7cc939d2-f740-4e17-ab76-c6826d272dd2"
   },
   "outputs": [
    {
     "name": "stdout",
     "output_type": "stream",
     "text": [
      "Accuracy: 1.00\n",
      "\n",
      "Classification Report:\n",
      "              precision    recall  f1-score   support\n",
      "\n",
      "           0       1.00      1.00      1.00        92\n",
      "           1       1.00      1.00      1.00        44\n",
      "           2       1.00      1.00      1.00        93\n",
      "           3       1.00      1.00      1.00       133\n",
      "\n",
      "    accuracy                           1.00       362\n",
      "   macro avg       1.00      1.00      1.00       362\n",
      "weighted avg       1.00      1.00      1.00       362\n",
      "\n"
     ]
    }
   ],
   "source": [
    "X_train, X_test, y_train, y_test = train_test_split(df['Title'], df['Topic'], test_size=0.2, random_state=42)\n",
    "\n",
    "tfidf_vectorizer = TfidfVectorizer(stop_words='english')\n",
    "X_train_tfidf = tfidf_vectorizer.fit_transform(X_train)\n",
    "X_test_tfidf = tfidf_vectorizer.transform(X_test)\n",
    "\n",
    "classifier = MultinomialNB()\n",
    "classifier.fit(X_train_tfidf, y_train)\n",
    "\n",
    "y_pred = classifier.predict(X_test_tfidf)\n",
    "\n",
    "accuracy = accuracy_score(y_test, y_pred)\n",
    "print(f\"Accuracy: {accuracy:.2f}\")\n",
    "\n",
    "print(\"\\nClassification Report:\")\n",
    "print(classification_report(y_test, y_pred))\n"
   ]
  },
  {
   "cell_type": "code",
   "execution_count": 52,
   "metadata": {
    "colab": {
     "base_uri": "https://localhost:8080/"
    },
    "id": "cJOdGHoBCktM",
    "outputId": "d8ccc639-b76d-4e22-d666-9c98a6925c34"
   },
   "outputs": [
    {
     "data": {
      "text/plain": [
       "['news_classifier.joblib']"
      ]
     },
     "execution_count": 52,
     "metadata": {},
     "output_type": "execute_result"
    }
   ],
   "source": [
    "joblib.dump((classifier,tfidf_vectorizer),'news_classifier.joblib')"
   ]
  },
  {
   "cell_type": "code",
   "execution_count": 60,
   "metadata": {},
   "outputs": [
    {
     "name": "stdout",
     "output_type": "stream",
     "text": [
      "Accuracy: 1.00\n",
      "\n",
      "Classification Report:\n",
      "               precision    recall  f1-score   support\n",
      "\n",
      "     business       1.00      1.00      1.00        92\n",
      "entertainment       1.00      1.00      1.00       133\n",
      "       health       1.00      1.00      1.00        44\n",
      "       sports       1.00      1.00      1.00        93\n",
      "\n",
      "     accuracy                           1.00       362\n",
      "    macro avg       1.00      1.00      1.00       362\n",
      " weighted avg       1.00      1.00      1.00       362\n",
      "\n"
     ]
    }
   ],
   "source": [
    "from sklearn.model_selection import train_test_split\n",
    "from sklearn.feature_extraction.text import TfidfVectorizer\n",
    "from sklearn.naive_bayes import MultinomialNB\n",
    "from sklearn.metrics import classification_report, accuracy_score\n",
    "import joblib\n",
    "\n",
    "# Assuming 'df' has the 'cleaned_description' and 'topic' columns\n",
    "# Replace this with your actual dataset\n",
    "\n",
    "# Split the data into training and testing sets\n",
    "X_train, X_test, y_train, y_test = train_test_split(\n",
    "    df['Title'],  # Features (cleaned descriptions)\n",
    "    df['category'],  # Labels (topics)\n",
    "    test_size=0.2,  # Adjust the test_size as needed\n",
    "    random_state=42\n",
    ")\n",
    "\n",
    "# Create a TF-IDF vectorizer\n",
    "tfidf_vectorizer = TfidfVectorizer(max_features=1000)  # Adjust max_features as needed\n",
    "\n",
    "# Fit and transform the training set\n",
    "X_train_tfidf = tfidf_vectorizer.fit_transform(X_train)\n",
    "\n",
    "# Transform the testing set\n",
    "X_test_tfidf = tfidf_vectorizer.transform(X_test)\n",
    "\n",
    "# Train a Naive Bayes classifier\n",
    "naive_bayes_classifier = MultinomialNB()\n",
    "naive_bayes_classifier.fit(X_train_tfidf, y_train)\n",
    "\n",
    "# Save the model and vectorizer to a pickle file\n",
    "#joblib.dump((naive_bayes_classifier, tfidf_vectorizer), 'news_model.pkl')\n",
    "joblib.dump((naive_bayes_classifier,tfidf_vectorizer),'news_classifier.joblib')\n",
    "# Predict on the testing set\n",
    "y_pred = naive_bayes_classifier.predict(X_test_tfidf)\n",
    "\n",
    "# Evaluate the model\n",
    "accuracy = accuracy_score(y_test, y_pred)\n",
    "print(f\"Accuracy: {accuracy:.2f}\\n\")\n",
    "\n",
    "# Display classification report\n",
    "print(\"Classification Report:\")\n",
    "print(classification_report(y_test, y_pred))"
   ]
  },
  {
   "cell_type": "code",
   "execution_count": 51,
   "metadata": {},
   "outputs": [
    {
     "data": {
      "image/png": "[encoded data removed]",
      "text/plain": [
       "<Figure size 800x600 with 2 Axes>"
      ]
     },
     "metadata": {},
     "output_type": "display_data"
    }
   ],
   "source": [
    "from sklearn.metrics import confusion_matrix\n",
    "import seaborn as sns\n",
    "import matplotlib.pyplot as plt\n",
    "\n",
    "# Assuming you have 'y_test' and 'y_pred' from your code\n",
    "\n",
    "# Create a confusion matrix\n",
    "conf_mat = confusion_matrix(y_test, y_pred)\n",
    "\n",
    "# Plot the confusion matrix\n",
    "plt.figure(figsize=(8, 6))\n",
    "sns.heatmap(conf_mat, annot=True, fmt='d', cmap='Blues',\n",
    "            xticklabels=sorted(df['Topic'].unique()),\n",
    "            yticklabels=sorted(df['category'].unique()))\n",
    "plt.title('Confusion Matrix')\n",
    "plt.xlabel('Predicted Labels')\n",
    "plt.ylabel('True Labels')\n",
    "plt.show()"
   ]
  },
  {
   "cell_type": "code",
   "execution_count": 65,
   "metadata": {},
   "outputs": [
    {
     "name": "stdout",
     "output_type": "stream",
     "text": [
      "['sports']\n"
     ]
    }
   ],
   "source": [
    "import joblib\n",
    "model, vectorizer = joblib.load('news_classifier.joblib')\n",
    "\n",
    "new_article='India to have match with england'\n",
    "\n",
    "new_article_tfidf = vectorizer.transform([new_article])\n",
    "\n",
    "prediction = model.predict(new_article_tfidf)\n",
    "\n",
    "print(prediction)"
   ]
  },
  {
   "cell_type": "code",
   "execution_count": null,
   "metadata": {},
   "outputs": [],
   "source": [
    "    "
   ]
  }
 ],
 "metadata": {
  "colab": {
   "provenance": []
  },
  "kernelspec": {
   "display_name": "Python 3 (ipykernel)",
   "language": "python",
   "name": "python3"
  },
  "language_info": {
   "codemirror_mode": {
    "name": "ipython",
    "version": 3
   },
   "file_extension": ".py",
   "mimetype": "text/x-python",
   "name": "python",
   "nbconvert_exporter": "python",
   "pygments_lexer": "ipython3",
   "version": "3.11.4"
  }
 },
 "nbformat": 4,
 "nbformat_minor": 1
}
